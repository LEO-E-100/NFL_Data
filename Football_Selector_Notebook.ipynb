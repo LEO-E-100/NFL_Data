{
 "cells": [
  {
   "cell_type": "markdown",
   "metadata": {},
   "source": [
    "# NFL Fantasy Football Selector\n",
    "\n",
    "The ideas for using the pro-football-reference data set.\n",
    "\n",
    "The website doesn't appear to have an API to use.\n",
    "\n",
    "The data can be used for fantasy football to check match ups.\n",
    "\n",
    "For example: If you have a choice of two running backs a function that returns the right player to play that week,\n",
    "this is on the basis of which will be facing a team that gives more yards on running plays that week.\n",
    "\n",
    "This will require parsing the pro-football-reference as CSV as well as the fixture list for football matches.\n",
    "\n",
    "In this way the function can return the right player to choose each week.\n",
    "\n",
    "Take two players as an arguments. These can be tested for team and position.\n",
    "\n",
    "With this data, the correct opposition for the players can be identified and the opposition stats in that position can\n",
    "be identified. The function will return the right player to choose based on the ranking of the opposition.\n",
    "\n",
    "https://www.pro-football-reference.com/years/2017/opp.htm\n",
    "\n",
    "Datasets required and sub-functions to be used:\n",
    "\n",
    "Dataset_1 = Defence rankings\n",
    "\n",
    "Dataset_2 = Fixture list\n",
    "\n",
    "Dataset_3 = Players set\n",
    "\n",
    "Function_1 = find_team\n",
    "\n",
    "Function_2 = find_position - sub-function of Function_1 -> Actually need separate return statements so maybe separate?\n",
    "\n",
    "Function_3 = find_opposition\n",
    "\n",
    "Function_4 = player_choice\n",
    "\n",
    "| Required      | Name             | Type     |\n",
    "| ------------- |------------------| ---------|\n",
    "| Dataset_1     | Defence rankings | Data     |\n",
    "| Dataset_2     | Fixture list     | Data     |\n",
    "| Dataset_3     | Players set      | Data     |\n",
    "| Function_1    | find_team        | function |\n",
    "| Function_2    | find_position    | function |\n",
    "| Function_3    | find_opposition  | function |\n",
    "| Function_4    | player_choice    | function |\n",
    "\n",
    "\n",
    "\n",
    "\n",
    "\n",
    "Still to do:\n",
    "\n",
    "- Make this apply to positional ratings and not base ratings\n",
    "- Find correct CSVs and update column headings\n",
    "- Ensure return statements are correct\n",
    "- ~~Begin program in jupyter or pycharm~~\n"
   ]
  },
  {
   "cell_type": "code",
   "execution_count": null,
   "metadata": {
    "collapsed": true
   },
   "outputs": [],
   "source": [
    "# Setup\n",
    "df_players = 0 # Read in a CSV of players, teams and positions in the NFL - outside the function perhaps??\n",
    "df_fixtures = 0 # Read in a CSV of the fixtures for each team\n",
    "df_ratings = 0 # Read in a CSV of the team ratings for each team\n"
   ]
  },
  {
   "cell_type": "code",
   "execution_count": null,
   "metadata": {
    "collapsed": true
   },
   "outputs": [],
   "source": [
    "def find_player(player):\n",
    "\n",
    "    df = df_players\n",
    "\n",
    "    player_frame = df[df['player_name'].str.contains(player)]\n",
    "    player_team = player_frame['team']\n",
    "    player_position = player_frame['position']\n",
    "\n",
    "    return player_team, player_position"
   ]
  },
  {
   "cell_type": "code",
   "execution_count": null,
   "metadata": {
    "collapsed": true
   },
   "outputs": [],
   "source": [
    "def find_opposition(player_team):\n",
    "\n",
    "    df = df_fixtures\n",
    "\n",
    "    home_team = df[df['home'].str.contains(player_team)]\n",
    "    away_team = home_team['away']\n",
    "\n",
    "    if player_team == home_team:\n",
    "        return away_team\n",
    "    else:\n",
    "        return home_team"
   ]
  },
  {
   "cell_type": "code",
   "execution_count": null,
   "metadata": {
    "collapsed": true
   },
   "outputs": [],
   "source": [
    "def opposition_rating(opposition):\n",
    "\n",
    "    df = df_ratings\n",
    "\n",
    "    rating = df[df['rating'].str.contains(opposition)]\n",
    "\n",
    "    return rating"
   ]
  },
  {
   "cell_type": "code",
   "execution_count": null,
   "metadata": {
    "collapsed": true
   },
   "outputs": [],
   "source": [
    "def player_choice(player_1, player_2):\n",
    "\n",
    "    team_1 = find_player(player_1)\n",
    "    team_2 = find_player(player_2)\n",
    "\n",
    "    oppo_1 = find_opposition(team_1)\n",
    "    oppo_2 = find_opposition(team_2)\n",
    "\n",
    "    oppo_rating_1 = opposition_rating(oppo_1)\n",
    "    oppo_rating_2 = opposition_rating(oppo_2)\n",
    "\n",
    "    if oppo_rating_1 < oppo_rating_2:\n",
    "        return oppo_rating_1\n",
    "    else:\n",
    "        return oppo_rating_2"
   ]
  }
 ],
 "metadata": {
  "kernelspec": {
   "display_name": "Python 2",
   "language": "python",
   "name": "python2"
  },
  "language_info": {
   "codemirror_mode": {
    "name": "ipython",
    "version": 2
   },
   "file_extension": ".py",
   "mimetype": "text/x-python",
   "name": "python",
   "nbconvert_exporter": "python",
   "pygments_lexer": "ipython2",
   "version": "2.7.11"
  }
 },
 "nbformat": 4,
 "nbformat_minor": 2
}
